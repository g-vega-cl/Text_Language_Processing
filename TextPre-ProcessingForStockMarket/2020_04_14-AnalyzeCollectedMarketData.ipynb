{
 "cells": [
  {
   "cell_type": "code",
   "execution_count": null,
   "metadata": {
    "colab": {},
    "colab_type": "code",
    "id": "cNQajejOLvH7"
   },
   "outputs": [],
   "source": [
    "from __future__ import absolute_import, division, print_function, unicode_literals\n",
    "\n",
    "# TensorFlow and tf.keras\n",
    "try:\n",
    "  # %tensorflow_version only exists in Colab.\n",
    "  %tensorflow_version 2.x\n",
    "except Exception:\n",
    "  pass\n",
    "import tensorflow as tf\n",
    "from tensorflow import keras\n",
    "import numpy as np\n",
    "\n",
    "import os\n",
    "import time\n",
    "import pandas as pd\n",
    "from IPython.display import clear_output\n",
    "import datetime"
   ]
  },
  {
   "cell_type": "markdown",
   "metadata": {},
   "source": [
    "Importing data, in this case it's a simple CSV with text and numbers"
   ]
  },
  {
   "cell_type": "code",
   "execution_count": null,
   "metadata": {
    "colab": {},
    "colab_type": "code",
    "id": "cPFTMgtMMvC5"
   },
   "outputs": [],
   "source": [
    "pandasData = pd.read_csv('/content/data.csv')  "
   ]
  },
  {
   "cell_type": "markdown",
   "metadata": {
    "colab_type": "text",
    "id": "K33a6AgjRt0L"
   },
   "source": [
    "### Separating Text"
   ]
  },
  {
   "cell_type": "code",
   "execution_count": null,
   "metadata": {
    "colab": {},
    "colab_type": "code",
    "id": "CSwI6MBWM6NR"
   },
   "outputs": [],
   "source": [
    "WSBText = []\n",
    "stocksText = []\n",
    "investingText = []\n",
    "allText = \"\"\n",
    "\n",
    "for textLine in pandasMarketData['Text']:\n",
    "  allText += textLine\n",
    "  WSB, Stocks, Investing = textLine.split(\",|,\")\n",
    "  WSBText.append(WSB)\n",
    "  stocksText.append(Stocks)\n",
    "  investingText.append(Investing)"
   ]
  },
  {
   "cell_type": "markdown",
   "metadata": {},
   "source": [
    "## Pre-processing the text"
   ]
  },
  {
   "cell_type": "markdown",
   "metadata": {
    "colab_type": "text",
    "id": "K4BOjJz7RuVU"
   },
   "source": [
    "### Converting to numbers\n",
    "transforming the vocabulary to numbers makes it easier to work with"
   ]
  },
  {
   "cell_type": "code",
   "execution_count": null,
   "metadata": {
    "colab": {},
    "colab_type": "code",
    "id": "vpYdErnzR10A"
   },
   "outputs": [],
   "source": [
    "vocab = sorted(set(allText))"
   ]
  },
  {
   "cell_type": "code",
   "execution_count": null,
   "metadata": {
    "colab": {},
    "colab_type": "code",
    "id": "xiIUWmWwSJN7"
   },
   "outputs": [],
   "source": [
    "# Creating a mapping from unique characters to indices\n",
    "char2idx = {u:i for i, u in enumerate(vocab)}\n",
    "idx2char = np.array(vocab)\n",
    "\n",
    "def textToInt(textToConvert):\n",
    "  text_as_int = np.array([char2idx[c] for c in textToConvert])\n",
    "  return text_as_int"
   ]
  },
  {
   "cell_type": "code",
   "execution_count": null,
   "metadata": {
    "colab": {},
    "colab_type": "code",
    "id": "B7pPdSpgSQOt"
   },
   "outputs": [],
   "source": [
    "WSBTextInt = list(map(textToInt,WSBText))\n",
    "stocksTextInt = list(map(textToInt,stocksText))\n",
    "investingTextInt = list(map(textToInt,investingText))"
   ]
  },
  {
   "cell_type": "markdown",
   "metadata": {
    "colab_type": "text",
    "id": "v5N6BZ-8UN2z"
   },
   "source": [
    "### Padding the text\n",
    "This is to make sure they all have the same size when we input it to the model"
   ]
  },
  {
   "cell_type": "code",
   "execution_count": null,
   "metadata": {
    "colab": {},
    "colab_type": "code",
    "id": "lzsnUJRkUSe4"
   },
   "outputs": [],
   "source": [
    "#Figure out the longest\n",
    "longest = 0\n",
    "for i in range(len(WSBTextInt)):\n",
    "  if(len(WSBTextInt[i]) >  longest):\n",
    "    longest = len(WSBTextInt[i])\n",
    "  if(len(stocksTextInt[i]) >  longest):\n",
    "    longest = len(stocksTextInt[i])\n",
    "  if(len(investingTextInt[i]) >  longest):\n",
    "    longest = len(investingTextInt[i])\n",
    "  \n",
    "    "
   ]
  },
  {
   "cell_type": "code",
   "execution_count": null,
   "metadata": {
    "colab": {},
    "colab_type": "code",
    "id": "M-O8S5T5U1FJ"
   },
   "outputs": [],
   "source": [
    "#pad the text\n",
    "for i in range(len(WSBTextInt)):\n",
    "  while len(WSBTextInt[i]) < longest:\n",
    "    WSBTextInt[i] = np.append(WSBTextInt[i],0)\n",
    "  while len(stocksTextInt[i]) < longest:\n",
    "    stocksTextInt[i] = np.append(stocksTextInt[i],0)\n",
    "  while len(investingTextInt[i]) < longest:\n",
    "    investingTextInt[i] = np.append(investingTextInt[i],0)"
   ]
  },
  {
   "cell_type": "code",
   "execution_count": null,
   "metadata": {
    "colab": {},
    "colab_type": "code",
    "id": "_sRFuKNrZ4GI"
   },
   "outputs": [],
   "source": [
    "allTextArray = []\n",
    "allTexts = np.zeros((len(WSBTextInt),longest*3))\n",
    "for i in range(len(WSBTextInt)):\n",
    "  currentAllTexts = np.append(WSBTextInt[i],(stocksTextInt[i], investingTextInt[i]))\n",
    "  allTexts[i] = currentAllTexts\n",
    "  allTextArray.append(np.append(WSBTextInt[i],(stocksTextInt[i], investingTextInt[i])))"
   ]
  },
  {
   "cell_type": "markdown",
   "metadata": {
    "colab_type": "text",
    "id": "hCSCHC4wR0ac"
   },
   "source": [
    "### Adding to database."
   ]
  },
  {
   "cell_type": "code",
   "execution_count": null,
   "metadata": {
    "colab": {},
    "colab_type": "code",
    "id": "IQqspjruNvF0"
   },
   "outputs": [],
   "source": [
    "pandasMarketData[\"WSBTextInt\"] = WSBTextInt\n",
    "pandasMarketData[\"stocksTextInt\"] = stocksTextInt\n",
    "pandasMarketData[\"investingTextInt\"] = investingTextInt"
   ]
  },
  {
   "cell_type": "code",
   "execution_count": null,
   "metadata": {
    "colab": {},
    "colab_type": "code",
    "id": "_VusMFBBt08a"
   },
   "outputs": [],
   "source": [
    "pandasMarketData[\"allTextInt\"] = allTextArray"
   ]
  },
  {
   "cell_type": "code",
   "execution_count": null,
   "metadata": {
    "colab": {},
    "colab_type": "code",
    "id": "16USu8NLOrb_"
   },
   "outputs": [],
   "source": [
    "pandasMarketData = pandasMarketData.drop(\"Text\", axis=1)"
   ]
  },
  {
   "cell_type": "markdown",
   "metadata": {},
   "source": [
    "Visualizing the data"
   ]
  },
  {
   "cell_type": "code",
   "execution_count": null,
   "metadata": {
    "colab": {
     "base_uri": "https://localhost:8080/",
     "height": 293
    },
    "colab_type": "code",
    "executionInfo": {
     "elapsed": 22349,
     "status": "ok",
     "timestamp": 1586915508375,
     "user": {
      "displayName": "Cesar vega",
      "photoUrl": "",
      "userId": "04805785551054582010"
     },
     "user_tz": 300
    },
    "id": "U2ofd0mjO7VO",
    "outputId": "9af76174-46d5-4b71-c3bc-8e8a1cc01eaa",
    "scrolled": true
   },
   "outputs": [],
   "source": [
    "pandasMarketData.head()"
   ]
  },
  {
   "cell_type": "markdown",
   "metadata": {},
   "source": [
    "## Data featuring"
   ]
  },
  {
   "cell_type": "markdown",
   "metadata": {
    "colab_type": "text",
    "id": "AJZYMQ_BT-Cu"
   },
   "source": [
    "### Date to cyclical\n",
    "Transforming the date formats to cycles improve the performance of the model"
   ]
  },
  {
   "cell_type": "code",
   "execution_count": null,
   "metadata": {
    "colab": {},
    "colab_type": "code",
    "id": "hKZfpz_xTuY1"
   },
   "outputs": [],
   "source": [
    "dateTime = []\n",
    "hourSine = []\n",
    "hourCos = []\n",
    "daySine = []\n",
    "dayCos = []\n",
    "monthSine = []\n",
    "monthCos = []\n",
    "\n",
    "def getSinAndCosineTime(minutesPastMidnight):\n",
    "  sinTime = np.sin(2*np.pi*minutesPastMidnight/(60*24))\n",
    "  cosTime = np.cos(2*np.pi*minutesPastMidnight/(60*24))\n",
    "  \n",
    "  times = [sinTime,cosTime]\n",
    "  return(sinTime, cosTime)\n",
    "\n",
    "def getSinAndCosineDay(dayOfMonth):\n",
    "  #Podriamos hacer un sistema que cambie con cada mes\n",
    "    #pero como es febrero lo dejaré así.\n",
    "  sinTime = np.sin(2*np.pi*dayOfMonth/(30))\n",
    "  cosTime = np.cos(2*np.pi*dayOfMonth/(30))\n",
    "  \n",
    "  times = [sinTime,cosTime]\n",
    "  return(sinTime, cosTime)\n",
    "\n",
    "def getSinAndCosineMonth(monthOfYear):\n",
    "  #Podriamos hacer un sistema que cambie con cada mes\n",
    "    #pero como es febrero lo dejaré así.\n",
    "  sinTime = np.sin(2*np.pi*monthOfYear/(12))\n",
    "  cosTime = np.cos(2*np.pi*monthOfYear/(12))\n",
    "  \n",
    "  times = [sinTime,cosTime]\n",
    "  return(sinTime, cosTime)\n",
    "\n",
    "\n",
    "for i in range(len(pandasMarketData)):\n",
    "  currentDateString, _ = pandasMarketData[\"Date\"][i].split(\".\")\n",
    "  #Get the hour and minutes\n",
    "  h = datetime.datetime.strptime(currentDateString, \"%Y-%m-%d %H:%M:%S\").hour\n",
    "  m = datetime.datetime.strptime(currentDateString, \"%Y-%m-%d %H:%M:%S\").minute\n",
    "  minutesPastMidnight = h*60 + m\n",
    "  hourS, hourC = getSinAndCosineTime(minutesPastMidnight)\n",
    "  hourSine.append(hourS)\n",
    "  hourCos.append(hourC)\n",
    "  ##########PONER DIA\n",
    "  d = datetime.datetime.strptime(currentDateString, \"%Y-%m-%d %H:%M:%S\").day\n",
    "  dayS, dayC = getSinAndCosineDay(d)\n",
    "  daySine.append(dayS)\n",
    "  dayCos.append(dayC)\n",
    "  ##########PONER Mes\n",
    "  Month = datetime.datetime.strptime(currentDateString, \"%Y-%m-%d %H:%M:%S\").month\n",
    "  monthS, monthC = getSinAndCosineMonth(Month)\n",
    "  monthSine.append(monthS)\n",
    "  monthCos.append(monthC)    \n",
    "  ##########Fecha\n",
    "  dateTime.append(datetime.datetime.strptime(currentDateString, \"%Y-%m-%d %H:%M:%S\"))\n",
    "\n",
    "\n"
   ]
  },
  {
   "cell_type": "code",
   "execution_count": null,
   "metadata": {
    "colab": {},
    "colab_type": "code",
    "id": "js-HxFzfZuop"
   },
   "outputs": [],
   "source": [
    "pandasMarketData[\"hourSin\"] = hourSine\n",
    "pandasMarketData[\"hourCos\"] = hourCos\n",
    "pandasMarketData[\"daySin\"] = daySine\n",
    "pandasMarketData[\"dayCos\"] = dayCos\n",
    "pandasMarketData[\"monthSin\"] = monthSine\n",
    "pandasMarketData[\"monthCos\"] = monthCos\n",
    "pandasMarketData[\"dateTime\"] = dateTime"
   ]
  },
  {
   "cell_type": "markdown",
   "metadata": {
    "colab_type": "text",
    "id": "TsX7kGHAcSHI"
   },
   "source": [
    "drop the date"
   ]
  },
  {
   "cell_type": "code",
   "execution_count": null,
   "metadata": {
    "colab": {},
    "colab_type": "code",
    "id": "t44G0xzecS2h"
   },
   "outputs": [],
   "source": [
    "pandasMarketData = pandasMarketData.drop(\"Date\", axis=1)"
   ]
  },
  {
   "cell_type": "code",
   "execution_count": null,
   "metadata": {
    "colab": {
     "base_uri": "https://localhost:8080/",
     "height": 487
    },
    "colab_type": "code",
    "executionInfo": {
     "elapsed": 21601,
     "status": "ok",
     "timestamp": 1586915508621,
     "user": {
      "displayName": "Cesar vega",
      "photoUrl": "",
      "userId": "04805785551054582010"
     },
     "user_tz": 300
    },
    "id": "mYULMq_6ccd4",
    "outputId": "ffaed531-5eec-424d-fffd-19b305c033cb"
   },
   "outputs": [],
   "source": [
    "pandasMarketData.head()"
   ]
  },
  {
   "cell_type": "markdown",
   "metadata": {
    "colab_type": "text",
    "id": "iD3uJ8_dfnKG"
   },
   "source": [
    "# Text model"
   ]
  },
  {
   "cell_type": "markdown",
   "metadata": {
    "colab_type": "text",
    "id": "5MUllQTPg5gA"
   },
   "source": [
    "### Create dataset for text model"
   ]
  },
  {
   "cell_type": "code",
   "execution_count": null,
   "metadata": {
    "colab": {},
    "colab_type": "code",
    "id": "IpKAY2bmhUpP"
   },
   "outputs": [],
   "source": [
    "rawDataset = np.zeros((len(pandasMarketData),2,longest*3))"
   ]
  },
  {
   "cell_type": "markdown",
   "metadata": {
    "colab_type": "text",
    "id": "dnJp89OGkNAT"
   },
   "source": [
    "Building the dataset"
   ]
  },
  {
   "cell_type": "code",
   "execution_count": null,
   "metadata": {
    "colab": {
     "base_uri": "https://localhost:8080/",
     "height": 35
    },
    "colab_type": "code",
    "executionInfo": {
     "elapsed": 20337,
     "status": "ok",
     "timestamp": 1586915508625,
     "user": {
      "displayName": "Cesar vega",
      "photoUrl": "",
      "userId": "04805785551054582010"
     },
     "user_tz": 300
    },
    "id": "9y4FSKJUudsz",
    "outputId": "2bb76f0f-99b3-45c7-9fe8-1af209d73455"
   },
   "outputs": [],
   "source": [
    "delta = (pandasMarketData[\"dateTime\"][9] - pandasMarketData[\"dateTime\"][8])\n",
    "delta.seconds"
   ]
  },
  {
   "cell_type": "code",
   "execution_count": null,
   "metadata": {
    "colab": {},
    "colab_type": "code",
    "id": "IXb_3mFFdTXn"
   },
   "outputs": [],
   "source": [
    "rowsToKeep = []\n",
    "for i in range(len(allTexts)-10):\n",
    "  currentDelta = (pandasMarketData[\"dateTime\"][i+10] - pandasMarketData[\"dateTime\"][i]).seconds\n",
    "  if (currentDelta > 550 and currentDelta < 800):\n",
    "    rawDataset[i][0] = allTexts[i]\n",
    "    isHigher = 0\n",
    "    for x in range(10):\n",
    "      #if the price in the future is higher than the ask + some extra target\n",
    "      if((pandasMarketData[\"Ask\"][i] + 2) < pandasMarketData[\"Bid\"][i+x]):\n",
    "        isHigher = 1\n",
    "    rawDataset[i][1] = np.repeat(isHigher,longest*3)\n",
    "    \n",
    "    rowsToKeep.append(i)"
   ]
  },
  {
   "cell_type": "code",
   "execution_count": null,
   "metadata": {
    "colab": {
     "base_uri": "https://localhost:8080/",
     "height": 35
    },
    "colab_type": "code",
    "executionInfo": {
     "elapsed": 22587,
     "status": "ok",
     "timestamp": 1586915511362,
     "user": {
      "displayName": "Cesar vega",
      "photoUrl": "",
      "userId": "04805785551054582010"
     },
     "user_tz": 300
    },
    "id": "t3xxN9nPfge9",
    "outputId": "15c39169-cf5f-4419-9738-63f3ca1b781a"
   },
   "outputs": [],
   "source": [
    "rawDataset.shape"
   ]
  },
  {
   "cell_type": "code",
   "execution_count": null,
   "metadata": {
    "colab": {},
    "colab_type": "code",
    "id": "IUjAArRnirs3"
   },
   "outputs": [],
   "source": [
    "cleanDataset = np.zeros((len(rowsToKeep),2,longest*3))\n",
    "z = 0\n",
    "for i in rowsToKeep:\n",
    "  cleanDataset[z][0] = rawDataset[i][0]\n",
    "  cleanDataset[z][1] = rawDataset[i][1]\n",
    "  z+=1 "
   ]
  },
  {
   "cell_type": "code",
   "execution_count": null,
   "metadata": {
    "colab": {
     "base_uri": "https://localhost:8080/",
     "height": 35
    },
    "colab_type": "code",
    "executionInfo": {
     "elapsed": 22092,
     "status": "ok",
     "timestamp": 1586915511366,
     "user": {
      "displayName": "Cesar vega",
      "photoUrl": "",
      "userId": "04805785551054582010"
     },
     "user_tz": 300
    },
    "id": "89Z724Vsi_AO",
    "outputId": "0137fa32-c43a-4ccb-8975-b9e47fb62c68"
   },
   "outputs": [],
   "source": [
    "cleanDataset.shape"
   ]
  },
  {
   "cell_type": "markdown",
   "metadata": {
    "colab_type": "text",
    "id": "uf7N2GrAJe7k"
   },
   "source": [
    "separating into input and target"
   ]
  },
  {
   "cell_type": "markdown",
   "metadata": {
    "colab_type": "text",
    "id": "6oHigfTFqxNk"
   },
   "source": [
    "NOTE: I need to split the data into training and test"
   ]
  },
  {
   "cell_type": "code",
   "execution_count": null,
   "metadata": {
    "colab": {},
    "colab_type": "code",
    "id": "Hf1l5kxLjPHq"
   },
   "outputs": [],
   "source": [
    "tensorDataset = tf.data.Dataset.from_tensor_slices(cleanDataset)"
   ]
  },
  {
   "cell_type": "code",
   "execution_count": null,
   "metadata": {
    "colab": {
     "base_uri": "https://localhost:8080/",
     "height": 35
    },
    "colab_type": "code",
    "executionInfo": {
     "elapsed": 28032,
     "status": "ok",
     "timestamp": 1586915518241,
     "user": {
      "displayName": "Cesar vega",
      "photoUrl": "",
      "userId": "04805785551054582010"
     },
     "user_tz": 300
    },
    "id": "daKeNq7kjTZR",
    "outputId": "33de9202-dcbf-4dec-f52e-aa968bec6ef1"
   },
   "outputs": [],
   "source": [
    "tensorDataset.take(1)"
   ]
  },
  {
   "cell_type": "code",
   "execution_count": null,
   "metadata": {
    "colab": {},
    "colab_type": "code",
    "id": "aLt4PYEFjBrw"
   },
   "outputs": [],
   "source": [
    "def split_input_target(chunk):\n",
    "    input_data = chunk[0]\n",
    "    target_data = chunk[1][0]\n",
    "    return input_data, target_data\n",
    "\n",
    "dataset = tensorDataset.map(split_input_target)"
   ]
  },
  {
   "cell_type": "code",
   "execution_count": null,
   "metadata": {
    "colab": {
     "base_uri": "https://localhost:8080/",
     "height": 53
    },
    "colab_type": "code",
    "executionInfo": {
     "elapsed": 27589,
     "status": "ok",
     "timestamp": 1586915518250,
     "user": {
      "displayName": "Cesar vega",
      "photoUrl": "",
      "userId": "04805785551054582010"
     },
     "user_tz": 300
    },
    "id": "gxoC2J2jjdqu",
    "outputId": "6d02edf5-125f-47e8-a39f-4b3e23abd83d"
   },
   "outputs": [],
   "source": [
    "for input_example, target_example in  dataset.take(1):\n",
    "  print ('Input data: ', input_example.shape)\n",
    "  print ('Target data:', target_example)"
   ]
  },
  {
   "cell_type": "markdown",
   "metadata": {
    "colab_type": "text",
    "id": "D-D7OFMzWwR2"
   },
   "source": [
    "batching"
   ]
  },
  {
   "cell_type": "code",
   "execution_count": null,
   "metadata": {
    "colab": {},
    "colab_type": "code",
    "id": "_4qUHE9Kjw3T"
   },
   "outputs": [],
   "source": [
    "BATCH_SIZE = 64\n",
    "datasetBatched = dataset.batch(BATCH_SIZE, drop_remainder=True)"
   ]
  },
  {
   "cell_type": "markdown",
   "metadata": {
    "colab_type": "text",
    "id": "_aRgN8OJj7en"
   },
   "source": [
    "shuffle"
   ]
  },
  {
   "cell_type": "code",
   "execution_count": null,
   "metadata": {
    "colab": {},
    "colab_type": "code",
    "id": "zzGWo05bj6_X"
   },
   "outputs": [],
   "source": [
    "BUFFER_SIZE = 10000\n",
    "cleanedDataset = datasetBatched.shuffle(BUFFER_SIZE)"
   ]
  },
  {
   "cell_type": "code",
   "execution_count": null,
   "metadata": {
    "colab": {
     "base_uri": "https://localhost:8080/",
     "height": 108
    },
    "colab_type": "code",
    "executionInfo": {
     "elapsed": 26456,
     "status": "ok",
     "timestamp": 1586915518678,
     "user": {
      "displayName": "Cesar vega",
      "photoUrl": "",
      "userId": "04805785551054582010"
     },
     "user_tz": 300
    },
    "id": "J6ejEu4skHXi",
    "outputId": "6cbc92c3-3203-47ab-a5f6-3e2065e37324"
   },
   "outputs": [],
   "source": [
    "for input_example, target_example in  cleanedDataset.take(1):\n",
    "  print ('Input data: ', input_example.shape)\n",
    "  print ('Target data:', target_example)"
   ]
  },
  {
   "cell_type": "markdown",
   "metadata": {
    "colab_type": "text",
    "id": "FNcBM8yxW0tH"
   },
   "source": [
    "### Build model"
   ]
  },
  {
   "cell_type": "code",
   "execution_count": null,
   "metadata": {
    "colab": {},
    "colab_type": "code",
    "id": "Bzp-lRklI7Pt"
   },
   "outputs": [],
   "source": [
    "# Length of the vocabulary in chars\n",
    "vocab_size = len(vocab)\n",
    "\n",
    "# The embedding dimension\n",
    "embedding_dim = 512\n",
    "\n",
    "# Number of RNN units\n",
    "rnn_units = 1028"
   ]
  },
  {
   "cell_type": "code",
   "execution_count": null,
   "metadata": {
    "colab": {},
    "colab_type": "code",
    "id": "pE3B8lgVW4pZ"
   },
   "outputs": [],
   "source": [
    "def build_model(vocab_size,embedding_dim=embedding_dim,rnn_units=rnn_units,batch_size=BATCH_SIZE):\n",
    "  model = tf.keras.Sequential([\n",
    "    tf.keras.layers.Embedding(vocab_size, embedding_dim,\n",
    "                              batch_input_shape=[batch_size,longest* 3]),\n",
    "    tf.keras.layers.GRU(rnn_units,\n",
    "                        return_sequences=True,\n",
    "                        stateful=True,\n",
    "                        recurrent_initializer='glorot_uniform'),                             \n",
    "    #tf.keras.layers.LSTM(100),\n",
    "    #tf.keras.layers.Flatten(),\n",
    "    tf.keras.layers.Dense(100),\n",
    "    tf.keras.layers.Dense(20),\n",
    "    tf.keras.layers.Dense(2) #probability of yes and of no\n",
    "  ])\n",
    "  return model"
   ]
  },
  {
   "cell_type": "code",
   "execution_count": null,
   "metadata": {
    "colab": {
     "base_uri": "https://localhost:8080/",
     "height": 380
    },
    "colab_type": "code",
    "executionInfo": {
     "elapsed": 24569,
     "status": "ok",
     "timestamp": 1586915519278,
     "user": {
      "displayName": "Cesar vega",
      "photoUrl": "",
      "userId": "04805785551054582010"
     },
     "user_tz": 300
    },
    "id": "wuSSijiaXQ6e",
    "outputId": "ea4e603e-9c42-4111-8b1c-b4288f5ee352"
   },
   "outputs": [],
   "source": [
    "model = build_model(vocab_size=len(vocab))\n",
    "model.summary()"
   ]
  },
  {
   "cell_type": "code",
   "execution_count": null,
   "metadata": {
    "colab": {
     "base_uri": "https://localhost:8080/",
     "height": 35
    },
    "colab_type": "code",
    "executionInfo": {
     "elapsed": 535,
     "status": "ok",
     "timestamp": 1586905911889,
     "user": {
      "displayName": "Cesar vega",
      "photoUrl": "",
      "userId": "04805785551054582010"
     },
     "user_tz": 300
    },
    "id": "JdUtX8ocXjdj",
    "outputId": "2297234d-1ae3-495c-afd1-0c008a08f53d"
   },
   "outputs": [],
   "source": [
    "#It effectively predicts it. Either 1 or 0\n",
    "np.argmax(model(input_example)[0])"
   ]
  },
  {
   "cell_type": "markdown",
   "metadata": {
    "colab_type": "text",
    "id": "UcMd5ZYmqThf"
   },
   "source": [
    "### Continue the model, Training loop"
   ]
  },
  {
   "cell_type": "code",
   "execution_count": null,
   "metadata": {
    "colab": {},
    "colab_type": "code",
    "id": "tc0PChoskuIs"
   },
   "outputs": [],
   "source": [
    "optimizer = tf.keras.optimizers.Adam()"
   ]
  },
  {
   "cell_type": "code",
   "execution_count": null,
   "metadata": {
    "colab": {},
    "colab_type": "code",
    "id": "sKZDNu8Ek0Do"
   },
   "outputs": [],
   "source": [
    "# Directory where the checkpoints will be saved\n",
    "checkpoint_dir = './training_checkpoints'\n",
    "# Name of the checkpoint files\n",
    "checkpoint_prefix = os.path.join(checkpoint_dir, \"ckpt_{epoch}\")\n",
    "\n",
    "checkpoint_callback=tf.keras.callbacks.ModelCheckpoint(\n",
    "    filepath=checkpoint_prefix,\n",
    "    save_weights_only=True)"
   ]
  },
  {
   "cell_type": "code",
   "execution_count": null,
   "metadata": {
    "colab": {},
    "colab_type": "code",
    "id": "eMfcRnNdk0VA"
   },
   "outputs": [],
   "source": [
    "@tf.function\n",
    "def train_step(inp, target):\n",
    "  with tf.GradientTape() as tape:\n",
    "    predictions = model(inp)\n",
    "    loss = tf.reduce_mean(\n",
    "        tf.keras.losses.sparse_categorical_crossentropy (\n",
    "            target, predictions, from_logits=True))\n",
    "  grads = tape.gradient(loss, model.trainable_variables)\n",
    "  optimizer.apply_gradients(zip(grads, model.trainable_variables))\n",
    "\n",
    "  return loss"
   ]
  },
  {
   "cell_type": "code",
   "execution_count": null,
   "metadata": {
    "colab": {
     "base_uri": "https://localhost:8080/",
     "height": 1000
    },
    "colab_type": "code",
    "executionInfo": {
     "elapsed": 1447784,
     "status": "ok",
     "timestamp": 1586907362661,
     "user": {
      "displayName": "Cesar vega",
      "photoUrl": "",
      "userId": "04805785551054582010"
     },
     "user_tz": 300
    },
    "id": "rxHsRh60k1iB",
    "outputId": "9c560d5c-c5dc-4802-bf05-8bb59e1b20a0",
    "scrolled": true
   },
   "outputs": [],
   "source": [
    "# Training step\n",
    "EPOCHS = 20\n",
    "\n",
    "for epoch in range(EPOCHS):\n",
    "  start = time.time()\n",
    "\n",
    "  # initializing the hidden state at the start of every epoch\n",
    "  # initally hidden is None\n",
    "  hidden = model.reset_states()\n",
    "\n",
    "  for (batch_n, (inp, target)) in enumerate(cleanedDataset):\n",
    "    loss = train_step(inp, target)\n",
    "\n",
    "  # saving (checkpoint) the model every 5 epochs\n",
    "  if (epoch + 1) % 5 == 0:\n",
    "    model.save_weights(checkpoint_prefix.format(epoch=epoch))\n",
    "\n",
    "  print ('Epoch {} Loss {:.4f}'.format(epoch+1, loss))\n",
    "  print ('Time taken for 1 epoch {} sec\\n'.format(time.time() - start))\n",
    "\n",
    "model.save_weights(checkpoint_prefix.format(epoch=epoch))"
   ]
  },
  {
   "cell_type": "markdown",
   "metadata": {},
   "source": [
    "### Saving the model"
   ]
  },
  {
   "cell_type": "code",
   "execution_count": null,
   "metadata": {
    "colab": {},
    "colab_type": "code",
    "id": "tNT8_ycnk7BX"
   },
   "outputs": [],
   "source": [
    "model.save('saved_model/my_model')\n",
    "#To load: new_model = tf.keras.models.load_model('saved_model/my_model')"
   ]
  },
  {
   "cell_type": "code",
   "execution_count": null,
   "metadata": {
    "colab": {},
    "colab_type": "code",
    "id": "7Hj28SzqlI7W"
   },
   "outputs": [],
   "source": [
    "!zip -r -r /content/model.zip /content/saved_model"
   ]
  },
  {
   "cell_type": "markdown",
   "metadata": {
    "colab_type": "text",
    "id": "eSv6Y4zCn2UY"
   },
   "source": [
    "## testing"
   ]
  },
  {
   "cell_type": "code",
   "execution_count": null,
   "metadata": {
    "colab": {
     "base_uri": "https://localhost:8080/",
     "height": 1000
    },
    "colab_type": "code",
    "executionInfo": {
     "elapsed": 1443272,
     "status": "ok",
     "timestamp": 1586907363268,
     "user": {
      "displayName": "Cesar vega",
      "photoUrl": "",
      "userId": "04805785551054582010"
     },
     "user_tz": 300
    },
    "id": "i_ATedciq54u",
    "outputId": "e773deb0-6419-4ff0-c16d-055b6ac75803"
   },
   "outputs": [],
   "source": [
    "for input_example, target_example in  cleanedDataset.take(1):\n",
    "  predictions = (model(input_example))\n"
   ]
  },
  {
   "cell_type": "code",
   "execution_count": null,
   "metadata": {
    "colab": {
     "base_uri": "https://localhost:8080/",
     "height": 90
    },
    "colab_type": "code",
    "executionInfo": {
     "elapsed": 1446906,
     "status": "ok",
     "timestamp": 1586907367230,
     "user": {
      "displayName": "Cesar vega",
      "photoUrl": "",
      "userId": "04805785551054582010"
     },
     "user_tz": 300
    },
    "id": "VY91yRRXn3Ih",
    "outputId": "0f0c74b7-0bab-4762-c307-b42e6ee7f5e6"
   },
   "outputs": [],
   "source": [
    "correct = 0\n",
    "incorrect = 0\n",
    "totalOnes = 0\n",
    "totalZeros = 0\n",
    "for input_example, target_example in  cleanedDataset.take(10):\n",
    "  predictions = model(input_example)\n",
    "  for i in range(len(predictions)):\n",
    "    if(np.argmax(predictions[i]) == target_example[i]):\n",
    "      correct += 1\n",
    "    else:\n",
    "      incorrect += 1 \n",
    "    if(target_example[i] == 1):\n",
    "      totalOnes +=1\n",
    "    else:\n",
    "      totalZeros += 1\n",
    "\n",
    "print(\"correct predictions: \", correct)\n",
    "print(\"incorrect predictions: \",incorrect)\n",
    "print(\"total ones: \", totalOnes)\n",
    "print(\"total zeros: \",totalZeros)\n",
    "\n",
    "  "
   ]
  },
  {
   "cell_type": "markdown",
   "metadata": {
    "colab_type": "text",
    "id": "0fxjimWNu3tr"
   },
   "source": [
    "### To predict by one:"
   ]
  },
  {
   "cell_type": "code",
   "execution_count": null,
   "metadata": {
    "colab": {
     "base_uri": "https://localhost:8080/",
     "height": 35
    },
    "colab_type": "code",
    "executionInfo": {
     "elapsed": 1442894,
     "status": "ok",
     "timestamp": 1586907367232,
     "user": {
      "displayName": "Cesar vega",
      "photoUrl": "",
      "userId": "04805785551054582010"
     },
     "user_tz": 300
    },
    "id": "SOQiyvQru5Yz",
    "outputId": "f619979a-ebd5-49d2-bca9-000fdb4f2686"
   },
   "outputs": [],
   "source": [
    "tf.train.latest_checkpoint(checkpoint_dir)"
   ]
  },
  {
   "cell_type": "code",
   "execution_count": null,
   "metadata": {
    "colab": {},
    "colab_type": "code",
    "id": "hIIOMvyLu7_-"
   },
   "outputs": [],
   "source": [
    "model = build_model(vocab_size, embedding_dim, rnn_units, batch_size=1)\n",
    "\n",
    "model.load_weights(tf.train.latest_checkpoint(checkpoint_dir))\n",
    "\n",
    "model.build(tf.TensorShape([1, None]))"
   ]
  },
  {
   "cell_type": "code",
   "execution_count": null,
   "metadata": {
    "colab": {
     "base_uri": "https://localhost:8080/",
     "height": 344
    },
    "colab_type": "code",
    "executionInfo": {
     "elapsed": 1442722,
     "status": "ok",
     "timestamp": 1586907367429,
     "user": {
      "displayName": "Cesar vega",
      "photoUrl": "",
      "userId": "04805785551054582010"
     },
     "user_tz": 300
    },
    "id": "pf3UwCh3u9U_",
    "outputId": "90db31ca-8554-4082-8149-841c7193201f"
   },
   "outputs": [],
   "source": [
    "model.summary()"
   ]
  },
  {
   "cell_type": "markdown",
   "metadata": {
    "colab_type": "text",
    "id": "e9QfMYcmr2BV"
   },
   "source": [
    "# Testing the model more realistically."
   ]
  },
  {
   "cell_type": "code",
   "execution_count": null,
   "metadata": {
    "colab": {
     "base_uri": "https://localhost:8080/",
     "height": 35
    },
    "colab_type": "code",
    "executionInfo": {
     "elapsed": 1442512,
     "status": "ok",
     "timestamp": 1586907367887,
     "user": {
      "displayName": "Cesar vega",
      "photoUrl": "",
      "userId": "04805785551054582010"
     },
     "user_tz": 300
    },
    "id": "iEsW-i3aq2qD",
    "outputId": "727cde1c-3b4d-41d7-b1fa-e600e18f4d88"
   },
   "outputs": [],
   "source": [
    "np.argmax(model(pandasMarketData[\"allTextInt\"][0][None]))"
   ]
  },
  {
   "cell_type": "code",
   "execution_count": null,
   "metadata": {
    "colab": {
     "base_uri": "https://localhost:8080/",
     "height": 1000
    },
    "colab_type": "code",
    "id": "2Wv5dUD_xVcV",
    "outputId": "6dc24af5-22b5-4c1d-a783-53c9279e5bbb"
   },
   "outputs": [],
   "source": [
    "prediction = 0\n",
    "balance = 0\n",
    "active = 0\n",
    "buys = 0\n",
    "losses = 0\n",
    "wins = 0\n",
    "balanceChart = []\n",
    "for i in range(len(pandasMarketData) - 10):\n",
    "    prediction = np.argmax(model(pandasMarketData[\"allTextInt\"][i][None]))\n",
    "    if(prediction == 1 and active == 0):\n",
    "      active = 1\n",
    "      price = pandasMarketData[\"Ask\"][i]\n",
    "      endOf10Min = i+10\n",
    "      buys += 1\n",
    "    if(active == 1):\n",
    "      if(i < endOf10Min):\n",
    "        if(price < pandasMarketData[\"Bid\"][i]):\n",
    "          balance += pandasMarketData[\"Bid\"][i] - price\n",
    "          active = 0\n",
    "          price = 0\n",
    "          wins += 1\n",
    "          balanceChart.append(balance)\n",
    "      else:\n",
    "        balance += pandasMarketData[\"Bid\"][i] - price\n",
    "        active = 0\n",
    "        price = 0\n",
    "        losses += 1\n",
    "        balanceChart.append(balance)\n",
    "\n",
    "    if(i%100 == 0):\n",
    "      print(\"completed: \", i/len(pandasMarketData)*100, \"%\")\n",
    "      print(\"Balance: \", balance)\n",
    "      print(\"buys: \", buys)\n",
    "      print(\"wins: \", wins)\n",
    "      print(\"losses: \", losses)\n",
    "      \n",
    "\n",
    "\n",
    "    \n",
    "\n",
    "\n",
    "  "
   ]
  },
  {
   "cell_type": "code",
   "execution_count": null,
   "metadata": {
    "colab": {},
    "colab_type": "code",
    "id": "VbbtAKM1zZhz"
   },
   "outputs": [],
   "source": [
    "import matplotlib.pyplot as plt\n",
    "plt.plot(balanceChart)\n",
    "plt.show"
   ]
  },
  {
   "cell_type": "code",
   "execution_count": null,
   "metadata": {
    "colab": {},
    "colab_type": "code",
    "id": "GZRGCFrO9tH6"
   },
   "outputs": [],
   "source": []
  }
 ],
 "metadata": {
  "accelerator": "GPU",
  "colab": {
   "authorship_tag": "ABX9TyMYQrOrfuemV899P5sp3BRU",
   "collapsed_sections": [],
   "name": "2020_04_14-AnalyzeCollectedMarketData.ipynb",
   "provenance": [],
   "toc_visible": true
  },
  "kernelspec": {
   "display_name": "Python 3",
   "language": "python",
   "name": "python3"
  },
  "language_info": {
   "codemirror_mode": {
    "name": "ipython",
    "version": 3
   },
   "file_extension": ".py",
   "mimetype": "text/x-python",
   "name": "python",
   "nbconvert_exporter": "python",
   "pygments_lexer": "ipython3",
   "version": "3.7.6"
  }
 },
 "nbformat": 4,
 "nbformat_minor": 1
}
